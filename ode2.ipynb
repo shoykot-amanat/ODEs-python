{
 "cells": [
  {
   "cell_type": "markdown",
   "id": "758fcb14-3693-4e17-a698-3ba26efa2062",
   "metadata": {},
   "source": [
    "# Second Order ODEs"
   ]
  },
  {
   "cell_type": "code",
   "execution_count": 2,
   "id": "01642b3e-a1cb-4299-9a5c-4fb314a2a321",
   "metadata": {},
   "outputs": [],
   "source": [
    "# importing libraries\n",
    "import numpy as np\n",
    "import matplotlib.pyplot as plt\n",
    "import scipy as sp\n",
    "from scipy.integrate import odeint\n",
    "from scipy.integrate import solve_ivp"
   ]
  },
  {
   "cell_type": "markdown",
   "id": "fad6a70e-471e-48b7-baea-76315f7ee5ed",
   "metadata": {},
   "source": [
    "### Differential Equation:\n",
    "\n",
    "**$$\\ddot{x} = -\\dot{x}^2 + \\sin(x) $$**\n",
    "\n",
    "- *step-1:* declare new variables.\n",
    "  let,\n",
    "  $$ \\dot{x} = v $$\n",
    "- *step-2:* differentiate the variables\n",
    "  $$ \\dot{v} = \\ddot{x} = -\\dot{x}^2 + \\sin(x) $$\n",
    "\n",
    "#### Now the second order differential equation has benn converted to a system of first order odes.\n",
    "\n",
    "$$ \\dot{x} = v $$\n",
    "$$ \\dot{v} = -v^2 + \\sin(x) $$"
   ]
  },
  {
   "cell_type": "code",
   "execution_count": 3,
   "id": "83b257ce-1240-4c60-ba70-5c3ef9de7ebb",
   "metadata": {},
   "outputs": [],
   "source": [
    "# define equations in python\n",
    "def dSdx(x, S):\n",
    "    x, v = S\n",
    "    return [\n",
    "        v,\n",
    "        -v**2 + np.sin(x)\n",
    "    ]"
   ]
  },
  {
   "cell_type": "code",
   "execution_count": 4,
   "id": "f12b8042-3dab-4635-a34a-0e7b3a7f3776",
   "metadata": {},
   "outputs": [],
   "source": [
    "# set initial conditions\n",
    "x0 = 0\n",
    "v0 = 5\n",
    "S0 = (x0, v0)"
   ]
  },
  {
   "cell_type": "code",
   "execution_count": 11,
   "id": "c8c714a6-5fa1-47ce-9194-07068a8fb5c3",
   "metadata": {},
   "outputs": [],
   "source": [
    "# setting values for independent variable\n",
    "x = np.linspace(0, np.pi, 1000)"
   ]
  },
  {
   "cell_type": "code",
   "execution_count": 12,
   "id": "df512bec-cdb8-41d0-9bb8-718bfa5d7e1f",
   "metadata": {},
   "outputs": [],
   "source": [
    "# solve with odeint\n",
    "sol1 = odeint(dSdx, y0=S0, t=x, tfirst=True)"
   ]
  },
  {
   "cell_type": "code",
   "execution_count": 7,
   "id": "d0d675d2-cbf4-4616-8d2c-fb758de5e1f6",
   "metadata": {},
   "outputs": [
    {
     "data": {
      "text/plain": [
       "array([[0.        , 5.        ],\n",
       "       [0.14729344, 4.31748275],\n",
       "       [0.27578202, 3.80323254],\n",
       "       [0.38987067, 3.40302757],\n",
       "       [0.49261176, 3.0836892 ],\n",
       "       [0.58620779, 2.82376475],\n",
       "       [0.67229994, 2.60876022],\n",
       "       [0.75214353, 2.42852527],\n",
       "       [0.82671964, 2.2757357 ],\n",
       "       [0.89680907, 2.1449711 ],\n",
       "       [0.96304278, 2.03213197],\n",
       "       [1.02593736, 1.93405876],\n",
       "       [1.08592058, 1.84827582],\n",
       "       [1.14335004, 1.77281483],\n",
       "       [1.19852727, 1.70609036],\n",
       "       [1.25170833, 1.64681041],\n",
       "       [1.30311203, 1.59391103],\n",
       "       [1.3529264 , 1.54650769],\n",
       "       [1.40131374, 1.50385875],\n",
       "       [1.44841471, 1.46533744],\n",
       "       [1.4943516 , 1.43041032],\n",
       "       [1.53923103, 1.39862043],\n",
       "       [1.58314617, 1.36957403],\n",
       "       [1.62617852, 1.34293002],\n",
       "       [1.66839952, 1.31839149],\n",
       "       [1.70987176, 1.29569884],\n",
       "       [1.75065012, 1.27462422],\n",
       "       [1.7907827 , 1.25496691],\n",
       "       [1.83031161, 1.23654958],\n",
       "       [1.86927365, 1.21921514],\n",
       "       [1.90770092, 1.20282408],\n",
       "       [1.94562137, 1.18725226],\n",
       "       [1.98305918, 1.17238906],\n",
       "       [2.02003527, 1.15813578],\n",
       "       [2.05656755, 1.14440427],\n",
       "       [2.0926713 , 1.13111575],\n",
       "       [2.12835946, 1.11819983],\n",
       "       [2.16364283, 1.10559358],\n",
       "       [2.19853032, 1.09324084],\n",
       "       [2.23302917, 1.08109147],\n",
       "       [2.26714511, 1.0691008 ],\n",
       "       [2.30088253, 1.05722909],\n",
       "       [2.33424464, 1.04544108],\n",
       "       [2.36723359, 1.03370555],\n",
       "       [2.3998506 , 1.02199498],\n",
       "       [2.43209606, 1.01028519],\n",
       "       [2.46396966, 0.99855504],\n",
       "       [2.49547046, 0.98678615],\n",
       "       [2.52659697, 0.97496268],\n",
       "       [2.55734723, 0.96307107],\n",
       "       [2.58771889, 0.95109984],\n",
       "       [2.61770928, 0.93903942],\n",
       "       [2.64731543, 0.92688193],\n",
       "       [2.67653416, 0.91462106],\n",
       "       [2.7053621 , 0.90225191],\n",
       "       [2.73379576, 0.88977084],\n",
       "       [2.76183155, 0.87717536],\n",
       "       [2.7894658 , 0.864464  ],\n",
       "       [2.81669483, 0.8516362 ],\n",
       "       [2.84351496, 0.83869222],\n",
       "       [2.86992249, 0.82563304],\n",
       "       [2.89591381, 0.81246028],\n",
       "       [2.92148534, 0.79917612],\n",
       "       [2.94663359, 0.78578321],\n",
       "       [2.97135515, 0.77228461],\n",
       "       [2.99564672, 0.75868374],\n",
       "       [3.01950512, 0.74498433],\n",
       "       [3.04292728, 0.73119031],\n",
       "       [3.06591027, 0.71730583],\n",
       "       [3.08845128, 0.70333519],\n",
       "       [3.11054764, 0.68928278],\n",
       "       [3.13219684, 0.67515306],\n",
       "       [3.15339649, 0.66095054],\n",
       "       [3.17414435, 0.64667972],\n",
       "       [3.19443832, 0.63234509],\n",
       "       [3.21427646, 0.61795108],\n",
       "       [3.23365694, 0.60350206],\n",
       "       [3.2525781 , 0.5890023 ],\n",
       "       [3.27103838, 0.57445598],\n",
       "       [3.28903637, 0.55986715],\n",
       "       [3.30657079, 0.54523973],\n",
       "       [3.32364047, 0.53057749],\n",
       "       [3.34024436, 0.51588406],\n",
       "       [3.35638154, 0.5011629 ],\n",
       "       [3.37205117, 0.48641729],\n",
       "       [3.38725252, 0.47165035],\n",
       "       [3.40198498, 0.45686503],\n",
       "       [3.41624799, 0.44206409],\n",
       "       [3.43004111, 0.42725011],\n",
       "       [3.44336395, 0.4124255 ],\n",
       "       [3.45621623, 0.39759249],\n",
       "       [3.4685977 , 0.38275313],\n",
       "       [3.48050819, 0.36790928],\n",
       "       [3.49194759, 0.35306265],\n",
       "       [3.50291583, 0.33821476],\n",
       "       [3.5134129 , 0.323367  ],\n",
       "       [3.52343882, 0.30852054],\n",
       "       [3.53299365, 0.29367646],\n",
       "       [3.54207748, 0.27883564],\n",
       "       [3.55069042, 0.26399885]])"
      ]
     },
     "execution_count": 7,
     "metadata": {},
     "output_type": "execute_result"
    }
   ],
   "source": [
    "sol1"
   ]
  },
  {
   "cell_type": "code",
   "execution_count": 13,
   "id": "4fc80d68-9045-4744-9164-4348a9d0a3ee",
   "metadata": {},
   "outputs": [],
   "source": [
    "x_sol = sol1.T[0]\n",
    "v_sol = sol1.T[1]"
   ]
  },
  {
   "cell_type": "code",
   "execution_count": 14,
   "id": "ca29c3f4-d69d-4c0f-b047-01c3b6b4ca8b",
   "metadata": {},
   "outputs": [
    {
     "data": {
      "text/plain": [
       "<function matplotlib.pyplot.show(close=None, block=None)>"
      ]
     },
     "execution_count": 14,
     "metadata": {},
     "output_type": "execute_result"
    },
    {
     "data": {
      "image/png": "[encoded data removed]",
      "text/plain": [
       "<Figure size 640x480 with 1 Axes>"
      ]
     },
     "metadata": {},
     "output_type": "display_data"
    }
   ],
   "source": [
    "# plot the graph\n",
    "plt.plot(x, x_sol)\n",
    "plt.plot(x, v_sol)\n",
    "plt.show"
   ]
  },
  {
   "cell_type": "code",
   "execution_count": null,
   "id": "afa0afbf-c512-4a38-9913-9dc72d0eb6f1",
   "metadata": {},
   "outputs": [],
   "source": []
  }
 ],
 "metadata": {
  "kernelspec": {
   "display_name": "Python 3 (ipykernel)",
   "language": "python",
   "name": "python3"
  },
  "language_info": {
   "codemirror_mode": {
    "name": "ipython",
    "version": 3
   },
   "file_extension": ".py",
   "mimetype": "text/x-python",
   "name": "python",
   "nbconvert_exporter": "python",
   "pygments_lexer": "ipython3",
   "version": "3.11.4"
  }
 },
 "nbformat": 4,
 "nbformat_minor": 5
}
